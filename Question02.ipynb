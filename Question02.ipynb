{
 "cells": [
  {
   "cell_type": "code",
   "execution_count": 2,
   "outputs": [],
   "source": [
    "import numpy as np\n",
    "from tensorflow.keras.preprocessing.text import Tokenizer\n",
    "from tensorflow.keras.preprocessing.sequence import pad_sequences\n",
    "from tensorflow.keras.models import Sequential\n",
    "from tensorflow.keras.layers import LSTM, Dense, Embedding, Bidirectional"
   ],
   "metadata": {
    "collapsed": false,
    "ExecuteTime": {
     "end_time": "2024-05-04T10:09:39.760224100Z",
     "start_time": "2024-05-04T10:09:39.755216900Z"
    }
   },
   "id": "2b35d12e325dbe80"
  },
  {
   "cell_type": "code",
   "execution_count": null,
   "outputs": [],
   "source": [
    "# Sample dataset\n",
    "data = {\n",
    "    'Greet': [\"Hi\", \"How are you?\", \"Hello\"],\n",
    "    'Farewell': [\"Goodbye\", \"See you later\", \"Take care\"],\n",
    "    'Inquiry': [\"What's the weather like today?\", \"Can you tell me the time?\", \"Where is the nearest restaurant?\"]\n",
    "}"
   ],
   "metadata": {
    "collapsed": false
   },
   "id": "c5c0067907ca0643"
  },
  {
   "cell_type": "code",
   "execution_count": null,
   "outputs": [],
   "source": [
    "# Tokenization and sequence padding\n",
    "tokenizer = Tokenizer()\n",
    "tokenizer.fit_on_texts([text for intent, examples in data.items() for text in examples])\n",
    "vocab_size = len(tokenizer.word_index) + 1\n",
    "\n",
    "max_len = max(len(text.split()) for intent, examples in data.items() for text in examples)\n",
    "sequences = tokenizer.texts_to_sequences([text for intent, examples in data.items() for text in examples])\n",
    "padded_sequences = pad_sequences(sequences, maxlen=max_len, padding='post')\n",
    "\n",
    "# One-hot encode labels\n",
    "labels = np.array([i for i, intent in enumerate(data.keys()) for _ in data[intent]])"
   ],
   "metadata": {
    "collapsed": false
   },
   "id": "6eed022543595f4b"
  },
  {
   "cell_type": "code",
   "execution_count": null,
   "outputs": [],
   "source": [
    "# LSTM model\n",
    "model = Sequential()\n",
    "model.add(Embedding(vocab_size, 100, input_length=max_len))\n",
    "model.add(Bidirectional(LSTM(128)))\n",
    "model.add(Dense(len(data), activation='softmax'))\n",
    "\n",
    "model.compile(loss='sparse_categorical_crossentropy', optimizer='adam', metrics=['accuracy'])\n",
    "\n",
    "# Training\n",
    "model.fit(padded_sequences, labels, epochs=50, verbose=0)"
   ],
   "metadata": {
    "collapsed": false
   },
   "id": "168b9a808c73ecee"
  },
  {
   "cell_type": "code",
   "execution_count": null,
   "outputs": [],
   "source": [
    "# Testing\n",
    "test_input = \"Hi there, can you tell me the time?\"\n",
    "test_sequence = tokenizer.texts_to_sequences([test_input])\n",
    "padded_test_sequence = pad_sequences(test_sequence, maxlen=max_len, padding='post')\n",
    "\n",
    "predicted_probabilities = model.predict(padded_test_sequence)[0]\n",
    "predicted_intent_index = np.argmax(predicted_probabilities)\n",
    "confidence_score = predicted_probabilities[predicted_intent_index]"
   ],
   "metadata": {
    "collapsed": false
   },
   "id": "99d207e617a1506b"
  },
  {
   "cell_type": "code",
   "execution_count": null,
   "outputs": [],
   "source": [
    "# Fallback mechanism\n",
    "threshold = 0.7\n",
    "if confidence_score >= threshold:\n",
    "    intents = list(data.keys())\n",
    "    predicted_intent = intents[predicted_intent_index]\n",
    "    print(f\"Intent: {predicted_intent}, Confidence: {confidence_score}\")\n",
    "else:\n",
    "    print(\"Fallback: Intent could not be confidently determined.\")"
   ],
   "metadata": {
    "collapsed": false
   },
   "id": "638fa618d535f238"
  }
 ],
 "metadata": {
  "kernelspec": {
   "display_name": "Python 3",
   "language": "python",
   "name": "python3"
  },
  "language_info": {
   "codemirror_mode": {
    "name": "ipython",
    "version": 2
   },
   "file_extension": ".py",
   "mimetype": "text/x-python",
   "name": "python",
   "nbconvert_exporter": "python",
   "pygments_lexer": "ipython2",
   "version": "2.7.6"
  }
 },
 "nbformat": 4,
 "nbformat_minor": 5
}
